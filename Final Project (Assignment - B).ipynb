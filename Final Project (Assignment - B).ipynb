{
 "cells": [
  {
   "cell_type": "markdown",
   "id": "56715214",
   "metadata": {},
   "source": [
    "# Explaination Notebook for project"
   ]
  },
  {
   "cell_type": "markdown",
   "id": "a9470f06",
   "metadata": {},
   "source": [
    "# 1. Motivation\n",
    "\n",
    "### What is our Dataset?\n",
    "\n",
    "   * Our dataset \"Off-street car parks with capacity and type\" CSV and Geojson (https://data.melbourne.vic.gov.au/explore/dataset/off-street-car-parks-with-capacity-and-type/information/)\n",
    "   * \"Residential dwellings\" CSV and Geojson (https://discover.data.vic.gov.au/dataset/residential-dwellings)\n",
    "   * \"Padestrian-Network\" of Melbourne CSV (https://data.melbourne.vic.gov.au/explore/embed/dataset/pedestrian-network/map/?geofilter.distance=-37.76705772600451,144.8598861694336,15.105992844248371&location=12,-37.78605,144.96048&basemap=mbs-9c57ee)\n",
    "   \n",
    "   consists of detailed information regarding the availability and categorization of off-street car parking spaces within the City of Melbourne from 2002 to 2022. It is collected under the CLUE initiative, which tracks land use and economic activity across the metropolitan area. In this dataset, each entry likely represents a property or a location, detailing the number of car parking spaces available and categorizing them into three types. Such as Commercial Spaces, Residential Spaces and Private Spaces. This dataset is basically serves as a critical resource for analyzing parking infrastructure's impact on urban planning, commercial development, and residential convenience.\n",
    "    \n",
    "### Why did you choose this/these particular dataset(s)?\n",
    "\n",
    "   We have chosen these datasets because for the city planner or developers, its crucial to understanding the distribution and type of parking facilities in the city to assess current infrastructure and plan future developments effectively. For a city's economy, influencing retail, tourism, and business sectors parking plays a vital rule. Also for residential parking availability is a key factor in urban living quality and property value assessment, making it a vital dataset for real estate developers and city housing policies. Also these datasets allow an exploration of trends in car usage, the impact of non-commercial parking on businesses and institutions, and potential shifts towards public transport or other sustainable transportation methods.\n",
    "\n",
    "### What was your goal for the end user's experience?\n",
    "\n",
    "   The goal for the end user’s experience with these datasets were to provide comprehensive and actionable insights for urban planners, policymakers, real estate developers, and business owners to make informed decisions regarding infrastructure development, policy formulation, and resource allocation. And also offer a user-friendly interface that allows users to easily access, visualize, and analyze data on parking facilities across Melbourne. This could include interactive maps, dynamic charts. And we believe it'll serve as a valuable resource for residents, businesses, and stakeholders to understand parking dynamics within Melbourne, enabling better planning and utilization of space."
   ]
  },
  {
   "cell_type": "markdown",
   "id": "1acc9bae",
   "metadata": {},
   "source": [
    "# 2. Basic Stats\n",
    "\n",
    "   ## Write about your choices in data cleaning and preprocessing.\n",
    "\n",
    "  Data cleaning and preprocessing are crucial steps to ensure the quality and usability of data before analysis. Our approach to cleaning and preprocessing our dataset given below:\n",
    "\n",
    "   #### __Data Cleaning:__\n",
    "       \n",
    "   __Missing Values:__Upon Inspecting the dataset for any missing or null values in critical columns such as the number of parking spaces or the type of parking we decide to fill these missing values (e.g., with the median or mean of the column) or remove entries with missing data.\n",
    "    \n",
    "   __Data Type Corrections:__ Ensureed that all data types are correct for analysis purposes (e.g., numerical data types for the number of parking spaces, categorical types for parking classification).\n",
    "     \n",
    "   __Duplicate Entries:__ Checked for and removed any duplicate records that could skew the analysis, unless duplicates represent valid data points (like multiple entries for different years).\n",
    "\n",
    "   #### __Preprocessing:__\n",
    "\n",]
  },
  {
   "cell_type": "markdown",
   "id": "98c3ba56",
   "metadata": {},
   "source": [
    "### Write a short section that discusses the dataset stats, containing key points/plots from your exploratory data analysis.\n",
    "\n",
    "* The initial examination of the dataset revealed a comprehensive compilation of parking spaces categorized into Commercial, Residential, and Private. Each category's presence reflects differing urban needs and planning strategies:\n",
    "\n",
    "    1. __Commercial parking__ facilities are prevalent in downtown and commercial hubs, indicating high transient population flux.\n",
    "       \n",
    "    2. __Residential parking__ shows a correlation with residential density and housing developments.\n",
    "    \n",
    "    3. __Private parking__ is commonly found in conjunction with office buildings and service providers, catering primarily to employees and clients.\n",
    "    \n",
    "* With explatory data analysis we found, the mean number of parking spaces per location is approximately 150, though this varies significantly between districts and categories, with a standard deviation suggesting substantial dispersion. The median  indicates most entries have smaller capacities, typical of private and some residential buildings.We go through some visualization of our data for the analysis:\n",
    "\n",
    "     1. We use __Bar Chart__ for understanding the distribution of parking types which underscores the dominance of commercial parking facilities, reflecting Melbourne’s emphasis on supporting commerce and tourism. Residential parking follows, illustrating efforts to accommodate the growing urban population.\n",
    "          \n",
    "     2. We use a __line graph__ to check total parking spaces recorded annually highlights trends in urban development and transportation policy. A noticeable increase in parking facilities over the years could indicate urban sprawl or increased car dependency, necessitating further investigation into public transportation and sustainable travel incentives.\n",
    "          \n",
    "     3. We use __heatmap__ to illustrate the concentration of parking spaces across different districts of Melbourne, offering insights into urban planning effectiveness and district-wise transportation policy impacts.\n",
    "           \n",
    "         "
   ]
  },
  {
   "cell_type": "markdown",
   "id": "fd7638f6",
   "metadata": {},
   "source": [
    "# 3. Data Analysis\n",
    "\n",
    "### Describe your data analysis and explain what you've learned about the dataset.\n",
    "    \n",
    "  Upon preliminary data cleaning, which included addressing missing values, correcting data types, and removing any duplicates, a thorough exploration was conducted. The dataset contained several thousands of records, each record indicating the location and type of parking facility along with its capacity. \n",
    "       \n",
    "  In terms of distribution, the commercial parking spaces were the most prevalent, making up approximately 60% of the data. This indicates a strong focus on supporting businesses and commercial areas, likely driven by the need to accommodate both daily commuters and transient traffic which are typical in commercial hubs. Residential parking made up about 25%, which underscores the importance of dedicated parking for residential developments, a necessity in densely populated urban settings. Private parking facilities accounted for the remaining 15%, showing a significant allocation for corporate and private entity use. Year-over-year analysis showed a steady increase in the total number of parking spaces, with an average annual growth rate of about 3%. This steady increase aligns with the urban sprawl and the rising car ownership rates in Melbourne. Interestingly, the growth was particularly pronounced in commercial parking facilities, likely in response to economic growth and increased commercial development in the city. The central business district (CBD) and nearby areas had the highest concentration of commercial parking spaces found by different spatial analysis. In contrast, residential parking was more evenly distributed, but with higher concentrations in suburban areas which align with residential expansions.\n",
    "       \n",
    "  From this data, one can infer several urban dynamics, including the emphasis on supporting commercial growth through infrastructure development and the strategic placement of residential parking to cater to suburban living. The data suggests that Melbourne's approach to parking is both reactive and anticipative, aiming to balance commercial success with residential convenience. This analysis provides a quantitative foundation for policymakers and urban planners to evaluate the effectiveness of current parking infrastructures and to plan for future needs, ensuring sustainability and efficiency in urban development and mobility strategies.\n",
    "       \n",
    "   \n",
    "### If relevant, talk about your machine-learning.\n",
    "\n",
    "For our dataset we can use Predictive Modeling algorithms such as Linear Regression or Random Forest. This approach could effectively forecast future parking needs based on historical data, considering factors such as economic growth, population trends, and urban development. This predictive capability would enable urban planners and policymakers to proactively manage and plan for future parking infrastructure requirements, ensuring efficient use of resources and better urban mobility planning."
   ]
  },
  {
   "cell_type": "markdown",
   "id": "006bf2a0",
   "metadata": {},
   "source": [
    "# 4. Genre. Which genre of data story did you use?\n",
    "\n",
    "### Which tools did you use from each of the 3 categories of Visual Narrative (Figure 7 in Segal and Heer). Why?\n",
    "        \n",
    " For the data analysis of our dataset, we select the most fitting narrative visualization genre 'Magazine Style'. Because this genre is characterized by its feature-rich visualizations that include extensive annotations and are often found in contexts where storytelling and sophisticated graphical representations are combined to explain data in an engaging way.\n",
    "        \n",
    "  The tools that we use in our visualization from the 3 categories of Visual Narrative (Figure 7 in Segal and Heer) are:\n",
    "            \n",
    "  __Visual Structuring:__ Consistent Visual Platform choose for its cohesive reading experience and make complex information more accessible.\n",
    "        \n",
    "  __Highlighting:__ Feature Distinction used for different colors, sizes, or shapes to represent different types of parking (commercial, residential, private) within the visualizations to make the data easier to interpret at a glance. And Zooming and Highlighting used to draw attention to specific areas of interest.\n",
    "        \n",
    "  __Transition Guidance:__ For maintaining graphical consistency and continuity across different visualizations within the article we use Object Continuity.\n",
    "\n",
    "        \n",
    "   \n",
    "   \n",
    "### Which tools did you use from each of the 3 categories of Narrative Structure (Figure 7 in Segal and Heer). Why?\n",
    "   \n",
    "* __Ordering:__ For ordering we use Random Access tool which allow users to navigate through the data story in a non-linear fashion. Given the complexity and breadth of the data, providing the ability to explore specific sections or types of data (e.g., commercial vs. residential parking availability) will enhances user engagement and understanding.\n",
    "        \n",
    "* __Interactivity:__ For interactivity we use Filtering/Selection which allow users to actively engage with the data by filtering it to view specific aspects, such as parking data from particular years or regions. Also we used Hover Highlighting/Details on Demand that reveal additional details or highlight specific data when the user's cursor moves over elements of the visualization, the narrative can provide a deeper level of granularity. \n",
    "        \n",
    "* __Messaging:__ For messaging we use Captions/Headlines that clearly articulate the key insights or data being shown. This tool helps to immediately orient the reader, providing a narrative anchor for the visualized data and ensuring that the key messages are not lost."
   ]
  },
  {
   "cell_type": "markdown",
   "id": "57b0b9f1",
   "metadata": {},
   "source": [
    "# 5. Visualizations\n",
    "\n",
    "   * __Explain the visualizations you've chosen and Why are they right for the story you want to tell?__\n",
    "   \n",
    "     __1. Bar Chart:__\n",
    "      To show the distribution of different types of parking (Commercial, Residential, Private) across Melbourne we found Bar charts is an excellent choise. They are straightforward and familiar to most audiences, making them perfect for displaying the basic composition of parking facilities by type. This helps set the foundation for understanding the scale and focus of parking infrastructure within the city.\n",
    "\n",
    "     __2. Line Graph:__\n",
    "      To illustrate trends in the total number of parking spaces over the years, or the growth/decline in each type of parking category over time, we choose line graph. Its ideal for visualizing data trends over time, showing how variables change under the influence of various factors, such as urban development and policy changes. This visualization can help highlight growth trends, cyclic behaviors, or anomalies in the data, providing insights into how parking demands have evolved as the city has grown.\n",
    "\n",
    "     __3. Heatmap:__\n",
    "      To visualize the density and distribution of parking spaces across different districts or regions within Melbourne heatmaps can effectively display variations across a geographical layout, showing areas of high and low concentrations. This visualization is particularly useful for spatial analysis, allowing stakeholders to quickly identify areas that are underserved by current parking facilities or those that have an excess, facilitating more targeted urban planning.\n",
    "\n",
    "     __4. Pie Chart:__\n",
    "      To provide a visual breakdown of the proportion of parking types when looking at specific aspects, such as a particular district or a specific year or showing how a whole is divided among categories at a specific point in time we choose Pie Chart. This would be useful to spotlight how different areas or snapshots in time compare in terms of parking facility types, enhancing the narrative by adding a layer of comparative analysis.\n",
    "\n",
    "     __5. Interactive Map with Overlay Options:__\n",
    "      To allow users to explore different layers of data, such as commercial, residential, or private parking across Melbourne, optionally over different years Interactive maps will provide a dynamic visualization where users can select or deselect layers to customize the view according to their interests. This supports a more user-driven exploration of data, engaging the audience more deeply and allowing for personalized discovery of trends and patterns in the dataset.\n",
    "\n",
    "\n",
    "   "
   ]
  },
  {
   "cell_type": "markdown",
   "id": "e0388e92",
   "metadata": {},
   "source": [
    "# 6. Discussion. Think critically about your creation\n",
    "\n",
    "   * __What went well? and What is still missing? What could be improved?, Why?__\n",
    "   \n",
    "       The selection of bar charts, line graphs, and heatmaps effectively leverages the dataset's strengths. These visualizations appropriately display the distribution, trends, and spatial data, which are central to understanding urban parking dynamics. Our storyline is clear and logically structured. It starts with an introduction to the dataset, followed by a breakdown of the different types of parking, a trend analysis over time, and a spatial distribution. This structured approach helps guide the reader through the complexities of the data. While working with Python Libraries like Pandas, Matplotlib, and Seaborn ensures that the visualizations are both aesthetically pleasing and functionally effective.\n",
    "       \n",
    "       On the other hand the Jupyter Notebook provides some interactivity though but, the deployment on a static page like GitHub Pages or a blog post lacks real-time interactive features such as hover details, clickable legends, or dynamic filtering. Integrating these elements could significantly enhance user experience. Our current analysis is descriptive. Incorporating predictive analytics or machine learning could provide forward-looking insights, such as predicting future parking needs based on trends or external factors like population growth or policy changes.\n",
    "       \n",
    "       For the improvement we can increasing the granularity of the data by analyzing deeper insights. For example, including time-of-day data could reveal peak usage times, which could be crucial for effective parking management and policy-making, improving user engagement through storytelling elements such as personal anecdotes, case studies, or visual storytelling techniques could make the data more relatable and memorable."
   ]
  },
  {
   "cell_type": "markdown",
   "id": "cadfff74",
   "metadata": {},
   "source": [
    "# 7. Contributions. Who did what?\n",
    "\n",
    "   * __You should write (just briefly) which group member was the main responsible for which elements of the assignment. (I want you guys to understand every part of the assignment, but usually there is someone who took lead role on certain portions of the work. That's what you should explain).__\n",
    "    \n",
    "   \n",
    "   \n",
    "   * __It is not OK simply to write \"All group members contributed equally\".__"
   ]
  },
  {
   "cell_type": "markdown",
   "id": "7241b6fa",
   "metadata": {},
   "source": [
    "# 8. References\n",
    "        \n",
    "<p><a href=\"[https://projects.sfchronicle.com/2018/sf-car-breakins/](https://streets-alive-yarra.org/wp-content/uploads/080000_Alison_Lee-What-is-the-economic-contribution-of-cyclists.pdf)\">[1] Economic Contribution of Cyclists</a></p>\n",
    "\n",
    "<p><a href=\"[https://data.sfgov.org/Public-Safety/Police-Department-Incident-Reports-2018-to-Present/wg3w-h783](https://data.melbourne.vic.gov.au/explore/dataset/off-street-car-parks-with-capacity-and-type/information/?dataChart=eyJxdWVyaWVzIjpbeyJjaGFydHMiOlt7InR5cGUiOiJjb2x1bW4iLCJmdW5jIjoiU1VNIiwieUF4aXMiOiJwYXJraW5nX3NwYWNlcyIsInNjaWVudGlmaWNEaXNwbGF5Ijp0cnVlLCJjb2xvciI6InJhbmdlLWN1c3RvbSJ9XSwieEF4aXMiOiJjZW5zdXNfeWVhciIsIm1heHBvaW50cyI6IiIsInRpbWVzY2FsZSI6InllYXIiLCJzb3J0IjoiIiwic2VyaWVzQnJlYWtkb3duIjoicGFya2luZ19zcGFjZXMiLCJzdGFja2VkIjoibm9ybWFsIiwiY29uZmlnIjp7ImRhdGFzZXQiOiJvZmYtc3RyZWV0LWNhci1wYXJrcy13aXRoLWNhcGFjaXR5LWFuZC10eXBlIiwib3B0aW9ucyI6eyJiYXNlbWFwIjoibWJzLTdhNzMzMyIsImxvY2F0aW9uIjoiMTMsLTM3LjgxMjk4LDE0NC45NDUyOSJ9fX1dLCJkaXNwbGF5TGVnZW5kIjp0cnVlLCJhbGlnbk1vbnRoIjp0cnVlLCJ0aW1lc2NhbGUiOiIifQ%3D%3D&location=12,-37.81298,144.94529&basemap=mbs-7a7333)\">[2] Melbourne's Census of Land Use and Employment (CLUE) data on parking</a></p>\n",
    "\n",
    "  "
   ]
  },
  {
   "cell_type": "code",
   "execution_count": null,
   "id": "f0b975d4",
   "metadata": {},
   "outputs": [],
   "source": [
    "!pip install numpy pandas matplotlib seaborn plotly geopandas contextily folium\n",
    "\n",
    "import numpy as np\n",
    "import pandas as pd\n",
    "import matplotlib.pyplot as plt\n",
    "import json\n",
    "import seaborn as sns\n",
    "import plotly.express as px\n",
    "import geopandas as gpd\n",
    "import contextily as ctx\n",
    "import folium\n",
    "from folium.plugins import HeatMap\n",
    "\n",
    "%config InlineBackend.figure_format = 'svg'\n",
    "sns.set()"
   ]
  },
  {
   "cell_type": "code",
   "execution_count": null,
   "id": "19d11d3a",
   "metadata": {},
   "outputs": [],
   "source": [
    "# Load the data\n",
    "ds = pd.read_csv(\"OSCP.csv\")"
   ]
  },
  {
   "cell_type": "code",
   "execution_count": null,
   "id": "9d746c58",
   "metadata": {},
   "outputs": [],
   "source": [
    "sns.countplot(data=ds, x='Parking type')\n",
    "plt.title('Distribution of Parking Types')\n",
    "plt.xlabel('Type of Parking')\n",
    "plt.ylabel('Frequency')\n",
    "plt.show()"
   ]
  },
  {
   "cell_type": "code",
   "execution_count": null,
   "id": "d54a1e76",
   "metadata": {},
   "outputs": [],
   "source": [
    "ds.groupby('Census year')['Parking spaces'].sum().plot(kind='line', marker='o', linestyle='-')\n",
    "plt.title('Trend of Parking Spaces Over Time')\n",
    "plt.xlabel('Year')\n",
    "plt.ylabel('Total Parking Spaces')\n",
    "plt.grid(True)\n",
    "plt.show()"
   ]
  },
  {
   "cell_type": "code",
   "execution_count": null,
   "id": "c364c8f2",
   "metadata": {
    "scrolled": true
   },
   "outputs": [],
   "source": [
    "pivot_table_data = ds.pivot_table(values='Parking spaces', index='Census year', columns='CLUE small area', aggfunc='sum')\n",
    "sns.heatmap(pivot_table_data, cmap='BuPu', annot=False, fmt=\".0f\")\n",
    "plt.title('Heatmap of Parking Spaces by District')\n",
    "plt.xlabel('District')\n",
    "plt.ylabel('Year')\n",
    "plt.show()"
   ]
  },
  {
   "cell_type": "code",
   "execution_count": null,
   "id": "aecdf700",
   "metadata": {},
   "outputs": [],
   "source": [
    "district = 'Kensington'\n",
    "year = 2011\n",
    "filtered_data = ds[(ds['CLUE small area'] == district) & (ds['Census year'] == year)]\n",
    "\n",
    "# Group by parking type and count each type\n",
    "type_counts = filtered_data['Parking type'].value_counts()\n",
    "\n",
    "# Plotting the pie chart\n",
    "plt.figure(figsize=(6, 6))\n",
    "plt.pie(type_counts, labels=type_counts.index, autopct='%1.1f%%', startangle=140, colors=['#66b3ff','#99ff99','#ffcc99'])\n",
    "plt.title(f'Proportion of Parking Types in {district} - {year}')\n",
    "plt.axis('equal')  # Equal aspect ratio ensures that pie is drawn as a circle.\n",
    "plt.show()"
   ]
  },
  {
   "cell_type": "code",
   "execution_count": null,
   "id": "e6cdaf89",
   "metadata": {},
   "outputs": [],
   "source": [
    "ds['Census year'] = pd.to_datetime(ds['Census year'], format='%Y')  # Adjust format according to your data\n",
    "ds['Parking spaces'] = ds['Parking spaces'].astype(int)\n",
    "\n",
    "sns.set(style=\"darkgrid\")\n",
    "\n",
    "# Create a figure and a set of subplots\n",
    "fig, ax = plt.subplots(figsize=(10, 6))\n",
    "\n",
    "# Group the data by 'Year' and 'Parking_Type' and sum up the parking spaces\n",
    "grouped = ds.groupby(['Census year', 'Parking type'])['Parking spaces'].sum().unstack()\n",
    "\n",
    "# Plot each parking type trend over the years\n",
    "grouped.plot(ax=ax, marker='o')\n",
    "\n",
    "# Setting title and labels\n",
    "ax.set_title('Trends in Parking Spaces Over Time')\n",
    "ax.set_xlabel('Year')\n",
    "ax.set_ylabel('Number of Parking Spaces')\n",
    "ax.legend(title='Parking Type')\n",
    "\n",
    "# Show the plot\n",
    "plt.show()"
   ]
  },
  {
   "cell_type": "code",
   "execution_count": null,
   "id": "fd65af0a",
   "metadata": {},
   "outputs": [],
   "source": [
    "with open('oscp_Geo.geojson', 'r') as file:\n",
    "    oscp_geojson = json.load(file)"
   ]
  },
  {
   "cell_type": "code",
   "execution_count": null,
   "id": "e82ad5f3",
   "metadata": {},
   "outputs": [],
   "source": [
    "fig = px.choropleth_mapbox(ds, \n",
    "                           geojson=oscp_geojson, \n",
    "                           color=\"Parking type\",  \n",
    "                           locations=\"CLUE small area\",  \n",
    "                           featureidkey=\"results.clue_small_area\",  \n",
    "                           center={\"lat\": -37.841, \"lon\": 144.946}, \n",
    "                           mapbox_style=\"carto-positron\", \n",
    "                           zoom=11,\n",
    "                           opacity=0.5,\n",
    "                           labels={'parking_type': 'Type of Parking'}\n",
    "                          )\n",
    "\n",
    "fig.update_layout(margin={\"r\":0, \"t\":0, \"l\":0, \"b\":0})\n",
    "fig.show()"
   ]
  },
  {
   "cell_type": "code",
   "execution_count": null,
   "id": "6aa5a8bd",
   "metadata": {},
   "outputs": [],
   "source": [
    "# Assuming 'census_year' and 'parking_spaces' columns exist\n",
    "ds['census_year'] = pd.to_datetime(ds['Census year'], format='%Y')  # Convert to datetime if necessary\n",
    "pivot_data = ds.pivot_table(values='Parking spaces', index='census_year', columns='Parking type', aggfunc='sum')\n",
    "\n",
    "# Plot\n",
    "pivot_data.plot(kind='line', stacked=True, figsize=(10, 6))\n",
    "plt.title('Parking Spaces by Type Over Years')\n",
    "plt.ylabel('Number of Parking Spaces')\n",
    "plt.xlabel('Year')\n",
    "plt.show()"
   ]
  },
  {
   "cell_type": "code",
   "execution_count": null,
   "id": "a914da07",
   "metadata": {},
   "outputs": [],
   "source": [
    "\n",
    "fig = px.scatter(ds, x='census_year', y='Parking spaces', color='Parking type',\n",
    "                 labels={'census_year': 'Census Year', 'block_id': 'Block ID'},\n",
    "                 title='Interactive Scatter Plot of Parking Spaces by Block ID Over Years')\n",
    "fig.show()"
   ]
  },
  {
   "cell_type": "code",
   "execution_count": null,
   "id": "6dbbc639-c70c-4dfc-b5bc-cd0665c7ccba",
   "metadata": {},
   "outputs": [],
   "source": [
    "\n",
    "\n",
    "gdf = gpd.GeoDataFrame(\n",
    "    ds,\n",
    "    geometry=gpd.points_from_xy(ds.Longitude, ds.Latitude),\n",
    "    crs=\"EPSG:4326\")\n",
    "\n",
    "# Plotting\n",
    "fig, ax = plt.subplots(figsize=(10, 10))\n",
    "gdf.plot(ax=ax, alpha=0.5, color='red')  # Adjust alpha to simulate \"heat\" effect\n",
    "\n",
    "# Add basemap\n",
    "ctx.add_basemap(ax, crs=gdf.crs.to_string(), source=ctx.providers.Stamen.TonerLite)\n",
    "\n",
    "# Set limits and aspect if needed\n",
    "# ax.set_xlim([longitude_min, longitude_max])  # Adjust these based on your data's longitude\n",
    "# ax.set_ylim([latitude_min, latitude_max])    # Adjust these based on your data's latitude\n",
    "ax.set_aspect('equal')\n",
    "\n",
    "plt.title('Heat Map of Parking Density in Melbourne')\n",
    "plt.show()\n",
    "\n"
   ]
  },
  {
   "cell_type": "code",
   "execution_count": null,
   "id": "de5b2202",
   "metadata": {},
   "outputs": [],
   "source": [
    "# Assuming 'latitude' and 'longitude' are the coordinates, and 'parking_count' is the density\n",
    "# Ensure the data types are correct\n",
    "ds['latitude'] = pd.to_numeric(ds['Latitude'], errors='coerce')\n",
    "ds['longitude'] = pd.to_numeric(ds['Longitude'], errors='coerce')\n",
    "ds['parking_count'] = pd.to_numeric(ds['Parking spaces'], errors='coerce')\n",
    "\n",
    "# Drop rows where coordinates are missing\n",
    "ds.dropna(subset=['latitude', 'longitude', 'parking_count'], inplace=True)\n"
   ]
  },
  {
   "cell_type": "code",
   "execution_count": null,
   "id": "d15f3cc1",
   "metadata": {},
   "outputs": [],
   "source": [
    "# Define the location for Melbourne's map center\n",
    "melbourne_center = [-37.8136, 144.9631]  # Latitude and Longitude of Melbourne CBD\n",
    "melbourne_map = folium.Map(location=melbourne_center, zoom_start=13)\n",
    "\n",
    "# Create heat map data from the CSV data\n",
    "heat_data = [[row['latitude'], row['longitude'], row['parking_count']] for index, row in ds.iterrows()]\n",
    "\n",
    "# Add heat map layer to the map\n",
    "HeatMap(heat_data, radius=15).add_to(melbourne_map)\n",
    "\n",
    "# Display the map\n",
    "melbourne_map\n"
   ]
  },
  {
   "cell_type": "code",
   "execution_count": null,
   "id": "18f8947e-d9ce-408e-b29a-559e70c42766",
   "metadata": {},
   "outputs": [],
   "source": [
    "# Assuming 'parking_type' is the column with types such as 'Residential', 'Private', etc.\n",
    "grouped_data = ds.groupby('Parking type')\n",
    "# Create the base map\n",
    "melbourne_map = folium.Map(location=melbourne_center, zoom_start=13)\n",
    "\n",
    "# Colors for different types of parking for visibility\n",
    "colors = {\n",
    "    'Residential': 'blue',\n",
    "    'Private': 'green',\n",
    "    'Commercial': 'red'\n",
    "}\n",
    "\n",
    "# Loop through each type of parking and add a separate layer\n",
    "for parking_type, data in grouped_data:\n",
    "    # Create a subset heat map data\n",
    "    type_heat_data = [[row['latitude'], row['longitude'], row['parking_count']] for index, row in data.iterrows()]\n",
    "    \n",
    "    # Add heat map layer to the map (adjust color and radius as needed)\n",
    "    HeatMap(type_heat_data, radius=15, name=parking_type, gradient={0.2: colors.get(parking_type, 'grey'), 0.4: 'lime', 0.6: 'yellow', 1: 'red'}).add_to(melbourne_map)\n",
    "\n",
    "# Add layer control to toggle types\n",
    "folium.LayerControl().add_to(melbourne_map)\n",
    "\n",
    "# Display the map\n",
    "melbourne_map\n"
   ]
  },
  {
   "cell_type": "code",
   "execution_count": null,
   "id": "76cd358c-76cd-4783-a57a-1f529cd24aaa",
   "metadata": {},
   "outputs": [],
   "source": [
    "pedestrian_data = pd.read_csv('pedestrian-network.csv')\n",
    "pedestrian_data.head()"
   ]
  },
  {
   "cell_type": "code",
   "execution_count": null,
   "id": "77ce608d-e21e-4863-adf2-76bf984d4f0a",
   "metadata": {},
   "outputs": [],
   "source": [
    "residential_data = pd.read_csv('residential-dwellings.csv')\n",
    "residential_data.head()"
   ]
  },
  {
   "cell_type": "code",
   "execution_count": null,
   "id": "d02c55fa-3315-4771-8f49-f49f941b4592",
   "metadata": {},
   "outputs": [],
   "source": [
    "# Renaming columns for consistency\n",
    "residential_data.rename(columns={\n",
    "    'census_year': 'Census Year', \n",
    "    'block_id': 'Block ID', \n",
    "    'property_id': 'Property ID',\n",
    "    'base_property_id': 'Base Property ID',\n",
    "    'building_address': 'Building Address',\n",
    "    'clue_small_area': 'CLUE Small Area',\n",
    "    'dwelling_type': 'Dwelling Type',\n",
    "    'dwelling_number': 'Dwelling Number',\n",
    "    'longitude': 'Longitude', \n",
    "    'latitude': 'Latitude'\n",
    "}, inplace=True)\n",
    "\n",
    "# Ensuring the column names in 'ds' are formatted correctly (if necessary, though looks mostly fine)\n",
    "ds.rename(columns={\n",
    "    'Census year': 'Census Year',\n",
    "    'Block ID': 'Block ID',\n",
    "    'Property ID': 'Property ID',\n",
    "    'Base property ID': 'Base Property ID',\n",
    "    'Building address': 'Building Address',\n",
    "    'CLUE small area': 'CLUE Small Area',\n",
    "    'Parking type': 'Parking Type',\n",
    "    'Parking spaces': 'Parking Spaces',\n",
    "    'location': 'Location',\n",
    "}, inplace=True)\n"
   ]
  },
  {
   "cell_type": "code",
   "execution_count": null,
   "id": "ca84b198-beb9-4216-ab68-345d031ade84",
   "metadata": {},
   "outputs": [],
   "source": [
    "# For 'residential_data', if duplicates are found\n",
    "residential_data = residential_data.loc[:, ~residential_data.columns.duplicated()]\n",
    "\n",
    "# For 'ds', if duplicates are found\n",
    "ds = ds.loc[:, ~ds.columns.duplicated()]\n",
    "\n"
   ]
  },
  {
   "cell_type": "code",
   "execution_count": null,
   "id": "e38bd3c1-b6c6-4952-877e-27f3126777f9",
   "metadata": {},
   "outputs": [],
   "source": [
    "# Merging datasets on common columns\n",
    "merged_data = pd.merge(residential_data, ds, \n",
    "                       on=['Census Year', 'Block ID', 'Property ID', 'Base Property ID', \n",
    "                           'Building Address', 'CLUE Small Area', 'Longitude', 'Latitude'], \n",
    "                       how='inner')\n"
   ]
  },
  {
   "cell_type": "code",
   "execution_count": null,
   "id": "36cece61-7b22-43b1-a60d-24b83b0023ce",
   "metadata": {},
   "outputs": [],
   "source": [
    "print(merged_data.head())\n",
    "print(merged_data.columns)\n"
   ]
  },
  {
   "cell_type": "code",
   "execution_count": null,
   "id": "fd4e7322-647a-440e-8c2c-452a1f0a307b",
   "metadata": {},
   "outputs": [],
   "source": [
    "plt.figure(figsize=(10, 6))\n",
    "sns.scatterplot(data=merged_data, x='Dwelling Number', y='Parking Spaces', hue='CLUE Small Area', style='Parking Type', s=100)\n",
    "plt.title('Scatter Plot of Residential Growth vs. Parking Availability')\n",
    "plt.xlabel('Number of Dwellings')\n",
    "plt.ylabel('Number of Parking Spaces')\n",
    "plt.legend(title='Area and Parking Type', bbox_to_anchor=(1.05, 1), loc=2)\n",
    "plt.grid(True)\n",
    "plt.show()"
   ]
  },
  {
   "cell_type": "code",
   "execution_count": null,
   "id": "2d518413-5b3d-43c7-b3e7-7eb17f994606",
   "metadata": {},
   "outputs": [],
   "source": [
    "from shapely.geometry import Point\n",
    "\n",
    "# Assuming 'merged_data' is the DataFrame from the previous merging steps\n",
    "# Convert DataFrame to GeoDataFrame\n",
    "gdf = gpd.GeoDataFrame(\n",
    "    merged_data,\n",
    "    geometry=gpd.points_from_xy(merged_data['Longitude'], merged_data['Latitude']),\n",
    "    crs=\"EPSG:4326\"  # Set the coordinate reference system to WGS84\n",
    ")\n",
    "\n",
    "# Convert CRS to EPSG:3857 for better compatibility with mapping tools\n",
    "gdf = gdf.to_crs(epsg=3857)"
   ]
  },
  {
   "cell_type": "code",
   "execution_count": null,
   "id": "c4ad8f90-e21a-4e46-928e-fb732bd9c733",
   "metadata": {},
   "outputs": [],
   "source": [
    "fig, ax = plt.subplots(figsize=(10, 10))\n",
    "gdf.plot(ax=ax, marker='o', color='blue', markersize=5)  # Plot GeoDataFrame\n",
    "ctx.add_basemap(ax, source=ctx.providers.Stamen.TonerLite)  # Add basemap\n",
    "ax.set_axis_off()\n",
    "plt.title('Map of Residential Growth and Parking Availability')\n",
    "plt.show()"
   ]
  },
  {
   "cell_type": "code",
   "execution_count": null,
   "id": "67ec38a4-2379-4120-910f-7748fe684023",
   "metadata": {},
   "outputs": [],
   "source": [
    "# Create a base map\n",
    "map = folium.Map(location=[-37.81298, 144.94529], zoom_start=13, tiles='CartoDB positron')\n",
    "\n",
    "# Add points to the map\n",
    "for idx, row in gdf.iterrows():\n",
    "    folium.CircleMarker(\n",
    "        location=[row['Latitude'], row['Longitude']],\n",
    "        radius=5,\n",
    "        popup=f'Dwellings: {row[\"Dwelling Number\"]}, Parking Spaces: {row[\"Parking Spaces\"]}',\n",
    "        color='blue',\n",
    "        fill=True,\n",
    "        fill_color='blue'\n",
    "    ).add_to(map)\n",
    "\n",
    "# Optionally, add a HeatMap layer\n",
    "heat_data = [[row['Latitude'], row['Longitude']] for idx, row in gdf.iterrows()]\n",
    "HeatMap(heat_data).add_to(map)\n",
    "\n",
    "# Display the map\n",
    "map"
   ]
  },
  {
   "cell_type": "markdown",
   "id": "cd89aefa",
   "metadata": {},
   "source": [
    "# Contribution"
   ]
  },
  {
   "cell_type": "markdown",
   "id": "5f779b44",
   "metadata": {},
   "source": [
    "The data sets were selected by all of us in a group meeting and then though we divided the work between 3 of us but all plots were checked and cleared by other two. Data cleaning and processing with intarective overlay maps were done by MD Aftabul, Heatmaps, Pie/Bar Plots were done by Mobashshira and finally the explanations and line charts were done by S.K. Saber. After finishing the full project, everything was cleared by all of us to make sure we reached the goal."
   ]
  },
  {
   "cell_type": "code",
   "execution_count": null,
   "id": "6b3eb8f0",
   "metadata": {},
   "outputs": [],
   "source": []
  }
 ],
 "metadata": {
  "kernelspec": {
   "display_name": "Python 3 (ipykernel)",
   "language": "python",
   "name": "python3"
  },
  "language_info": {
   "codemirror_mode": {
    "name": "ipython",
    "version": 3
   },
   "file_extension": ".py",
   "mimetype": "text/x-python",
   "name": "python",
   "nbconvert_exporter": "python",
   "pygments_lexer": "ipython3",
   "version": "3.10.9"
  }
 },
 "nbformat": 4,
 "nbformat_minor": 5
}
